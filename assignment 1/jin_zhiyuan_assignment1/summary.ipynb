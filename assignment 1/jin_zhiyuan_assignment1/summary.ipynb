{
 "cells": [
  {
   "cell_type": "markdown",
   "id": "a18fa43a",
   "metadata": {},
   "source": [
    "    (i). In this project, we built the KNN_Classification model, and applied KNN model with different type of data set(standared, or not standard, and different hperparameters. we also compared the logistic regression model with KNN, but KNN perfomed better in this data set. then we used cross_validataion to find out the best model. and finally we evaluated the model we got from the cross_validation by using these predefined functions from part A.\n",
    "    (ii). The given data set an one column csv file which contains all the information as a single string formate in each row. features are the physical, and chemical measure of the wine which might affect the wine's quality. target is a set of data contains binary value which we got from the quality column of the original data set.\n",
    "    (iii) training is really fast in both KNN and logistic regression. However, KNN take some time to make prediction and logistic regression predicts fairly quickly.\n",
    "    \n",
    "    In the KNN, we used n_neighbors, weights, p, as hyperparameters. n_neighbor is the number of the nearest points will be used to make decision. weights is the way how calculating the probability of being positive. p is the way how we measure the distance between two points,by using Manhaten or Euclidean. \n",
    "    In the logistice regression, we used solver, and penalty as hperparameter. solver is the algorithm to use in the optimization problem. "
   ]
  },
  {
   "cell_type": "markdown",
   "id": "9af458b6",
   "metadata": {},
   "source": [
    "the performence of KNN model is getting better with increasing k value, in the set k = {1,5,9,11}, and in this experiment manhatan distance performs better than euclidian distance, also the inverse distance weighted method will significently improve the performance."
   ]
  },
  {
   "cell_type": "markdown",
   "id": "99dd08a2",
   "metadata": {},
   "source": [
    "    uniform\n",
    "        Euclidean  Manhattan\n",
    "    1      0.7971     0.7946\n",
    "    5      0.7840     0.7839\n",
    "    9      0.7744     0.7868\n",
    "    11     0.7815     0.7898\n",
    "\n",
    "    distance\n",
    "        Euclidean  Manhattan\n",
    "    1      0.7896     0.7997\n",
    "    5      0.8156     0.8187\n",
    "    9      0.8198     0.8305\n",
    "    11     0.8308     0.8352"
   ]
  },
  {
   "cell_type": "markdown",
   "id": "23429e54",
   "metadata": {},
   "source": [
    "     3: 0.5789473905817163,\n",
    "     4: 0.7318840599138836,\n",
    "     6: 0.274241523334776,\n",
    "     7: 0.24109589145055355,\n",
    "     8: 0.2516129080541103,\n",
    "     9: 0.200000159999968"
   ]
  }
 ],
 "metadata": {
  "kernelspec": {
   "display_name": "Python 3 (ipykernel)",
   "language": "python",
   "name": "python3"
  },
  "language_info": {
   "codemirror_mode": {
    "name": "ipython",
    "version": 3
   },
   "file_extension": ".py",
   "mimetype": "text/x-python",
   "name": "python",
   "nbconvert_exporter": "python",
   "pygments_lexer": "ipython3",
   "version": "3.10.2"
  }
 },
 "nbformat": 4,
 "nbformat_minor": 5
}
