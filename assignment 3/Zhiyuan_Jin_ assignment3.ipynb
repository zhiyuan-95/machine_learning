{
 "cells": [
  {
   "cell_type": "markdown",
   "id": "daea82f2",
   "metadata": {},
   "source": [
    "### Part A: PCA"
   ]
  },
  {
   "cell_type": "code",
   "execution_count": 1,
   "id": "9ec5418b",
   "metadata": {},
   "outputs": [],
   "source": [
    "import numpy as np"
   ]
  },
  {
   "cell_type": "code",
   "execution_count": 2,
   "id": "9d296380",
   "metadata": {
    "scrolled": true
   },
   "outputs": [],
   "source": [
    "import tensorflow as tf\n",
    "mnist=tf.keras.datasets.mnist\n",
    "(X_train, y_train), (X_test, y_test) = mnist.load_data()"
   ]
  },
  {
   "cell_type": "markdown",
   "id": "0031fa3c",
   "metadata": {},
   "source": [
    "#### 1. Perform Exploratory Data Analysis (EDA) on X_train and discuss the data and what you observe prior to beginning modeling (visualize the images) "
   ]
  },
  {
   "cell_type": "code",
   "execution_count": 3,
   "id": "7e65b5ee",
   "metadata": {},
   "outputs": [
    {
     "data": {
      "image/png": "[encoded data removed]",
      "text/plain": [
       "<Figure size 432x288 with 1 Axes>"
      ]
     },
     "metadata": {
      "needs_background": "light"
     },
     "output_type": "display_data"
    }
   ],
   "source": [
    "import matplotlib.pyplot as plt\n",
    "plt.imshow(X_train[0],\n",
    "           cmap=plt.cm.binary)\n",
    "plt.show()"
   ]
  },
  {
   "cell_type": "code",
   "execution_count": 4,
   "id": "7aa49be6",
   "metadata": {},
   "outputs": [],
   "source": [
    "X_train_reshaped =[]\n",
    "for x in X_train:\n",
    "    X_train_reshaped.append(x.reshape(1,784)[0])\n",
    "X_train = np.array(X_train_reshaped)"
   ]
  },
  {
   "cell_type": "code",
   "execution_count": 5,
   "id": "253dc254",
   "metadata": {},
   "outputs": [],
   "source": [
    "X_test_reshaped = []\n",
    "for x in X_test:\n",
    "    X_test_reshaped.append(x.reshape(1,784)[0])\n",
    "X_test = np.array(X_test_reshaped)"
   ]
  },
  {
   "cell_type": "markdown",
   "id": "989efd98",
   "metadata": {},
   "source": [
    "In this data set, each data is 28*28 2 dimention image"
   ]
  },
  {
   "cell_type": "markdown",
   "id": "2f96dce6",
   "metadata": {},
   "source": [
    "##### 2. Normalize the image data so the pixel values are between 0 and 1."
   ]
  },
  {
   "cell_type": "code",
   "execution_count": 6,
   "id": "96ae0cee",
   "metadata": {},
   "outputs": [],
   "source": [
    "X_train = X_train/255\n",
    "X_test = X_test/255"
   ]
  },
  {
   "cell_type": "code",
   "execution_count": null,
   "id": "6b43d265",
   "metadata": {},
   "outputs": [],
   "source": []
  },
  {
   "cell_type": "markdown",
   "id": "0410355a",
   "metadata": {},
   "source": [
    "##### 3. Use PCA to reduce the 784 dimensions of the data to 32 dimensions using X_train"
   ]
  },
  {
   "cell_type": "code",
   "execution_count": 7,
   "id": "da65baa3",
   "metadata": {},
   "outputs": [
    {
     "name": "stdout",
     "output_type": "stream",
     "text": [
      "X shape: (60000, 784)\n",
      "X_reduced shape: (60000, 32)\n"
     ]
    }
   ],
   "source": [
    "from sklearn.decomposition import PCA\n",
    "\n",
    "pca = PCA(n_components=32)\n",
    "X_reduced = pca.fit_transform(X_train)\n",
    "\n",
    "print('X shape:', X_train.shape)\n",
    "print('X_reduced shape:', X_reduced.shape)"
   ]
  },
  {
   "cell_type": "code",
   "execution_count": null,
   "id": "d80e08db",
   "metadata": {},
   "outputs": [],
   "source": []
  },
  {
   "cell_type": "code",
   "execution_count": null,
   "id": "e1011809",
   "metadata": {},
   "outputs": [],
   "source": []
  },
  {
   "cell_type": "code",
   "execution_count": null,
   "id": "690f0e89",
   "metadata": {},
   "outputs": [],
   "source": []
  },
  {
   "cell_type": "markdown",
   "id": "eca4199e",
   "metadata": {},
   "source": [
    "##### 4. Transform X_train, discuss the original variance in X_train and how much variance is explained by the 32 components. Plot the variance explained as a function of the number of components used and explain why the shape of the plot is what it is (use what we know about PCA) "
   ]
  },
  {
   "cell_type": "code",
   "execution_count": 8,
   "id": "c5229d3a",
   "metadata": {},
   "outputs": [
    {
     "name": "stdout",
     "output_type": "stream",
     "text": [
      "original varience:  52.72503549512755\n",
      "variance explained by 32 components:  39.20506393222206\n"
     ]
    },
    {
     "data": {
      "text/plain": [
       "[<matplotlib.lines.Line2D at 0x22b1f064a60>]"
      ]
     },
     "execution_count": 8,
     "metadata": {},
     "output_type": "execute_result"
    },
    {
     "data": {
      "image/png": "[encoded data removed]",
      "text/plain": [
       "<Figure size 432x288 with 1 Axes>"
      ]
     },
     "metadata": {
      "needs_background": "light"
     },
     "output_type": "display_data"
    }
   ],
   "source": [
    "total_var = np.sum(np.var(X_train,axis=0))\n",
    "print(\"original varience: \",np.sum(np.var(X_train,axis=0)))\n",
    "print('variance explained by 32 components: ', np.sum(pca.explained_variance_))\n",
    "plt.plot(pca.explained_variance_)"
   ]
  },
  {
   "cell_type": "code",
   "execution_count": null,
   "id": "fee89564",
   "metadata": {},
   "outputs": [],
   "source": []
  },
  {
   "cell_type": "markdown",
   "id": "0c6f0d45",
   "metadata": {},
   "source": [
    "It means the top ranked components explain the most part of the varience of this data set, the explained variance geting less and less with the rank of the componant geting lower and lower."
   ]
  },
  {
   "cell_type": "markdown",
   "id": "04e2feaf",
   "metadata": {},
   "source": [
    "##### 5. Using the transform fit on X_train, transform X_test and discuss the original variance in X_test and how much variance is explained on X_test by the 32 components. "
   ]
  },
  {
   "cell_type": "code",
   "execution_count": 9,
   "id": "d1b86335",
   "metadata": {},
   "outputs": [],
   "source": [
    "pca_test = PCA(n_components=32)\n",
    "pca_test.fit(X_train)\n",
    "test_reduced = pca.transform(X_test)"
   ]
  },
  {
   "cell_type": "code",
   "execution_count": 10,
   "id": "92f6ae9c",
   "metadata": {},
   "outputs": [
    {
     "data": {
      "text/plain": [
       "[<matplotlib.lines.Line2D at 0x22b1f133cd0>]"
      ]
     },
     "execution_count": 10,
     "metadata": {},
     "output_type": "execute_result"
    },
    {
     "data": {
      "image/png": "[encoded data removed]",
      "text/plain": [
       "<Figure size 432x288 with 1 Axes>"
      ]
     },
     "metadata": {
      "needs_background": "light"
     },
     "output_type": "display_data"
    }
   ],
   "source": [
    "plt.plot(np.var(test_reduced,axis=0))"
   ]
  },
  {
   "cell_type": "code",
   "execution_count": 11,
   "id": "5d792846",
   "metadata": {},
   "outputs": [
    {
     "name": "stdout",
     "output_type": "stream",
     "text": [
      "original test varience:  52.84824867142073\n",
      "variance explained by 32 components:  39.65644482082396\n"
     ]
    }
   ],
   "source": [
    "print(\"original test varience: \",np.sum(np.var(X_test,axis=0)))\n",
    "print('variance explained by 32 components: ', np.sum(np.var(test_reduced,axis=0)))"
   ]
  },
  {
   "cell_type": "markdown",
   "id": "4d61b717",
   "metadata": {},
   "source": [
    "##### 6. Compare results from #4 and #5"
   ]
  },
  {
   "cell_type": "code",
   "execution_count": 12,
   "id": "90491217",
   "metadata": {},
   "outputs": [],
   "source": [
    "import pandas as pd"
   ]
  },
  {
   "cell_type": "code",
   "execution_count": 13,
   "id": "4815d240",
   "metadata": {},
   "outputs": [],
   "source": [
    "a = [[np.sum(np.var(X_train,axis=0)),np.sum(pca.explained_variance_)],[np.sum(np.var(X_test,axis=0)),np.sum(np.var(test_reduced,axis=0))]]"
   ]
  },
  {
   "cell_type": "code",
   "execution_count": null,
   "id": "104ae0cf",
   "metadata": {},
   "outputs": [],
   "source": []
  },
  {
   "cell_type": "code",
   "execution_count": 14,
   "id": "9ce5e3b1",
   "metadata": {},
   "outputs": [],
   "source": [
    "compare = pd.DataFrame(a,columns=['train','test'], index = ['total_var','explained_var'])"
   ]
  },
  {
   "cell_type": "code",
   "execution_count": 15,
   "id": "1d7a5c67",
   "metadata": {},
   "outputs": [
    {
     "data": {
      "text/html": [
       "<div>\n",
       "<style scoped>\n",
       "    .dataframe tbody tr th:only-of-type {\n",
       "        vertical-align: middle;\n",
       "    }\n",
       "\n",
       "    .dataframe tbody tr th {\n",
       "        vertical-align: top;\n",
       "    }\n",
       "\n",
       "    .dataframe thead th {\n",
       "        text-align: right;\n",
       "    }\n",
       "</style>\n",
       "<table border=\"1\" class=\"dataframe\">\n",
       "  <thead>\n",
       "    <tr style=\"text-align: right;\">\n",
       "      <th></th>\n",
       "      <th>train</th>\n",
       "      <th>test</th>\n",
       "    </tr>\n",
       "  </thead>\n",
       "  <tbody>\n",
       "    <tr>\n",
       "      <th>total_var</th>\n",
       "      <td>52.725035</td>\n",
       "      <td>39.205064</td>\n",
       "    </tr>\n",
       "    <tr>\n",
       "      <th>explained_var</th>\n",
       "      <td>52.848249</td>\n",
       "      <td>39.656445</td>\n",
       "    </tr>\n",
       "  </tbody>\n",
       "</table>\n",
       "</div>"
      ],
      "text/plain": [
       "                   train       test\n",
       "total_var      52.725035  39.205064\n",
       "explained_var  52.848249  39.656445"
      ]
     },
     "execution_count": 15,
     "metadata": {},
     "output_type": "execute_result"
    }
   ],
   "source": [
    "compare"
   ]
  },
  {
   "cell_type": "markdown",
   "id": "bc53caea",
   "metadata": {},
   "source": [
    "### Part B: AutoEncoder"
   ]
  },
  {
   "cell_type": "markdown",
   "id": "8099e997",
   "metadata": {},
   "source": [
    "##### 1. Start with data after step #2 from Section A"
   ]
  },
  {
   "cell_type": "code",
   "execution_count": 16,
   "id": "48e9a114",
   "metadata": {},
   "outputs": [
    {
     "name": "stdout",
     "output_type": "stream",
     "text": [
      "(60000, 784)\n",
      "(10000, 784)\n"
     ]
    }
   ],
   "source": [
    "print(X_train.shape)\n",
    "print(X_test.shape)"
   ]
  },
  {
   "cell_type": "markdown",
   "id": "e48728d6",
   "metadata": {},
   "source": [
    "##### 2. Build an autoencoder (either at least 1 hidden layer or using CNN) that will reduce the 784 dimensions of the data to 32 dimensions"
   ]
  },
  {
   "cell_type": "code",
   "execution_count": 17,
   "id": "d854fc4f",
   "metadata": {},
   "outputs": [],
   "source": [
    "import keras\n",
    "from keras import layers\n",
    "\n",
    "# This is the size of our encoded representations\n",
    "encoding_dim = 32  # 32 floats -> compression of factor 24.5, assuming the input is 784 floats\n",
    "\n",
    "# This is our input image\n",
    "input_img = keras.Input(shape=(784,))\n",
    "\n",
    "# \"encoded\" is the encoded representation of the input\n",
    "encoded = layers.Dense(encoding_dim, activation='relu')(input_img)\n",
    "\n",
    "# \"decoded\" is the lossy reconstruction of the input\n",
    "decoded = layers.Dense(784, activation='sigmoid')(encoded)\n",
    "\n",
    "# This model maps an input to its reconstruction\n",
    "autoencoder = keras.Model(input_img, decoded)"
   ]
  },
  {
   "cell_type": "markdown",
   "id": "cd8a15a4",
   "metadata": {},
   "source": [
    "---"
   ]
  },
  {
   "cell_type": "markdown",
   "id": "a503425a",
   "metadata": {},
   "source": [
    "##### 3. Train an autoencoder on X_train. Discuss the original variance in X_train and how much variance is explained by the 32 dimensions. Hint: Use “model.predict(X_train)” to get predictions"
   ]
  },
  {
   "cell_type": "markdown",
   "id": "6bfc49b6",
   "metadata": {},
   "source": [
    "configuration: "
   ]
  },
  {
   "cell_type": "code",
   "execution_count": 18,
   "id": "23abb7d5",
   "metadata": {},
   "outputs": [],
   "source": [
    "autoencoder.compile(optimizer='adam',loss='binary_crossentropy')"
   ]
  },
  {
   "cell_type": "code",
   "execution_count": 19,
   "id": "482ffa60",
   "metadata": {},
   "outputs": [
    {
     "name": "stdout",
     "output_type": "stream",
     "text": [
      "Epoch 1/25\n",
      "235/235 [==============================] - 3s 10ms/step - loss: 0.2807 - val_loss: 0.1929\n",
      "Epoch 2/25\n",
      "235/235 [==============================] - 2s 8ms/step - loss: 0.1724 - val_loss: 0.1551\n",
      "Epoch 3/25\n",
      "235/235 [==============================] - 2s 8ms/step - loss: 0.1452 - val_loss: 0.1343\n",
      "Epoch 4/25\n",
      "235/235 [==============================] - 2s 8ms/step - loss: 0.1293 - val_loss: 0.1220\n",
      "Epoch 5/25\n",
      "235/235 [==============================] - 2s 8ms/step - loss: 0.1195 - val_loss: 0.1145\n",
      "Epoch 6/25\n",
      "235/235 [==============================] - 2s 7ms/step - loss: 0.1124 - val_loss: 0.1073\n",
      "Epoch 7/25\n",
      "235/235 [==============================] - 2s 7ms/step - loss: 0.1063 - val_loss: 0.1027\n",
      "Epoch 8/25\n",
      "235/235 [==============================] - 2s 9ms/step - loss: 0.1023 - val_loss: 0.0993\n",
      "Epoch 9/25\n",
      "235/235 [==============================] - 3s 14ms/step - loss: 0.0994 - val_loss: 0.0971\n",
      "Epoch 10/25\n",
      "235/235 [==============================] - 3s 13ms/step - loss: 0.0976 - val_loss: 0.0955\n",
      "Epoch 11/25\n",
      "235/235 [==============================] - 3s 11ms/step - loss: 0.0964 - val_loss: 0.0946\n",
      "Epoch 12/25\n",
      "235/235 [==============================] - 3s 15ms/step - loss: 0.0955 - val_loss: 0.0940\n",
      "Epoch 13/25\n",
      "235/235 [==============================] - 3s 14ms/step - loss: 0.0950 - val_loss: 0.0934\n",
      "Epoch 14/25\n",
      "235/235 [==============================] - 3s 13ms/step - loss: 0.0946 - val_loss: 0.0932\n",
      "Epoch 15/25\n",
      "235/235 [==============================] - 3s 11ms/step - loss: 0.0944 - val_loss: 0.0929\n",
      "Epoch 16/25\n",
      "235/235 [==============================] - 3s 11ms/step - loss: 0.0942 - val_loss: 0.0927\n",
      "Epoch 17/25\n",
      "235/235 [==============================] - 2s 8ms/step - loss: 0.0940 - val_loss: 0.0927\n",
      "Epoch 18/25\n",
      "235/235 [==============================] - 2s 8ms/step - loss: 0.0939 - val_loss: 0.0925\n",
      "Epoch 19/25\n",
      "235/235 [==============================] - 2s 9ms/step - loss: 0.0937 - val_loss: 0.0924\n",
      "Epoch 20/25\n",
      "235/235 [==============================] - 3s 11ms/step - loss: 0.0936 - val_loss: 0.0923\n",
      "Epoch 21/25\n",
      "235/235 [==============================] - 2s 8ms/step - loss: 0.0935 - val_loss: 0.0922\n",
      "Epoch 22/25\n",
      "235/235 [==============================] - 2s 8ms/step - loss: 0.0935 - val_loss: 0.0922\n",
      "Epoch 23/25\n",
      "235/235 [==============================] - 2s 8ms/step - loss: 0.0934 - val_loss: 0.0921\n",
      "Epoch 24/25\n",
      "235/235 [==============================] - 2s 9ms/step - loss: 0.0933 - val_loss: 0.0921\n",
      "Epoch 25/25\n",
      "235/235 [==============================] - 3s 13ms/step - loss: 0.0933 - val_loss: 0.0921\n"
     ]
    },
    {
     "data": {
      "text/plain": [
       "<keras.callbacks.History at 0x22b20ac2590>"
      ]
     },
     "execution_count": 19,
     "metadata": {},
     "output_type": "execute_result"
    }
   ],
   "source": [
    "autoencoder.fit(X_train, X_train,\n",
    "                epochs=25,\n",
    "                batch_size=256,\n",
    "                shuffle=True,\n",
    "                validation_data=(X_test, X_test))"
   ]
  },
  {
   "cell_type": "code",
   "execution_count": 20,
   "id": "36c12909",
   "metadata": {},
   "outputs": [],
   "source": [
    "prediction = autoencoder.predict(X_train)"
   ]
  },
  {
   "cell_type": "code",
   "execution_count": 21,
   "id": "49c1d7ff",
   "metadata": {},
   "outputs": [],
   "source": [
    "explained_var_train = np.sum(np.var(prediction,axis = 0))"
   ]
  },
  {
   "cell_type": "code",
   "execution_count": 22,
   "id": "216550a1",
   "metadata": {},
   "outputs": [],
   "source": [
    "total_var_train = np.sum(np.var(X_train,axis = 0))"
   ]
  },
  {
   "cell_type": "code",
   "execution_count": 23,
   "id": "47513d90",
   "metadata": {
    "scrolled": true
   },
   "outputs": [],
   "source": [
    "explained_train = explained_var_train/total_var_train"
   ]
  },
  {
   "cell_type": "markdown",
   "id": "8018d7d3",
   "metadata": {},
   "source": [
    "##### 4. Using the model trained on X_train, transform X_test and discuss the original variance in X_test and how much variance is explained on X_test by the 32 dimensions of the autoencoder. Hint: Use “model.predict(X_test)” to get predictions."
   ]
  },
  {
   "cell_type": "code",
   "execution_count": 24,
   "id": "a4317f9e",
   "metadata": {},
   "outputs": [],
   "source": [
    "prediction = autoencoder.predict(X_test)"
   ]
  },
  {
   "cell_type": "code",
   "execution_count": 25,
   "id": "2f48b6dd",
   "metadata": {},
   "outputs": [],
   "source": [
    "explained_var_test = np.sum(np.var(prediction,axis = 0))"
   ]
  },
  {
   "cell_type": "code",
   "execution_count": 26,
   "id": "4155e385",
   "metadata": {},
   "outputs": [],
   "source": [
    "total_var_test = np.sum(np.var(X_test, axis = 0))"
   ]
  },
  {
   "cell_type": "code",
   "execution_count": 27,
   "id": "eaf66503",
   "metadata": {},
   "outputs": [],
   "source": [
    "explained_test = explained_var_test/total_var_test"
   ]
  },
  {
   "cell_type": "markdown",
   "id": "11ce55fc",
   "metadata": {},
   "source": [
    "##### 5. Compare results from #3 and #4 and why it is important to test out of sample"
   ]
  },
  {
   "cell_type": "code",
   "execution_count": 28,
   "id": "7ece8c8d",
   "metadata": {},
   "outputs": [],
   "source": [
    "compare  = pd.DataFrame(index = ['train', 'test'])"
   ]
  },
  {
   "cell_type": "code",
   "execution_count": 29,
   "id": "6cd54833",
   "metadata": {},
   "outputs": [],
   "source": [
    "compare['% variation_explained'] = [explained_train, explained_test]"
   ]
  },
  {
   "cell_type": "code",
   "execution_count": 30,
   "id": "02e88470",
   "metadata": {},
   "outputs": [
    {
     "data": {
      "text/html": [
       "<div>\n",
       "<style scoped>\n",
       "    .dataframe tbody tr th:only-of-type {\n",
       "        vertical-align: middle;\n",
       "    }\n",
       "\n",
       "    .dataframe tbody tr th {\n",
       "        vertical-align: top;\n",
       "    }\n",
       "\n",
       "    .dataframe thead th {\n",
       "        text-align: right;\n",
       "    }\n",
       "</style>\n",
       "<table border=\"1\" class=\"dataframe\">\n",
       "  <thead>\n",
       "    <tr style=\"text-align: right;\">\n",
       "      <th></th>\n",
       "      <th>% variation_explained</th>\n",
       "    </tr>\n",
       "  </thead>\n",
       "  <tbody>\n",
       "    <tr>\n",
       "      <th>train</th>\n",
       "      <td>0.863104</td>\n",
       "    </tr>\n",
       "    <tr>\n",
       "      <th>test</th>\n",
       "      <td>0.869264</td>\n",
       "    </tr>\n",
       "  </tbody>\n",
       "</table>\n",
       "</div>"
      ],
      "text/plain": [
       "       % variation_explained\n",
       "train               0.863104\n",
       "test                0.869264"
      ]
     },
     "execution_count": 30,
     "metadata": {},
     "output_type": "execute_result"
    }
   ],
   "source": [
    "compare"
   ]
  },
  {
   "cell_type": "markdown",
   "id": "b40fcae4",
   "metadata": {},
   "source": [
    "because we can test if our model is overfitted by testing out of sample"
   ]
  },
  {
   "cell_type": "markdown",
   "id": "598df0a2",
   "metadata": {},
   "source": [
    "### Part C: Explain Results"
   ]
  },
  {
   "cell_type": "markdown",
   "id": "b336bcd9",
   "metadata": {},
   "source": [
    "autoencoder explains more variantion, because PCA only explain linear relation ship, autoencoder can also explain non_linear relationship."
   ]
  },
  {
   "cell_type": "markdown",
   "id": "a0e63cca",
   "metadata": {},
   "source": [
    "PCA has 784 parameters;\n",
    "autoencoder has 784x32x2+32+784 = 50992 parameters"
   ]
  },
  {
   "cell_type": "markdown",
   "id": "ed92eb34",
   "metadata": {},
   "source": [
    "we use PCA when the data set only has linear relationship, otherwise we use Autoencoder"
   ]
  },
  {
   "cell_type": "markdown",
   "id": "dce55155",
   "metadata": {},
   "source": [
    "### Part D: Extra Credit"
   ]
  },
  {
   "cell_type": "code",
   "execution_count": 56,
   "id": "7c651616",
   "metadata": {},
   "outputs": [],
   "source": [
    "import math\n",
    "import numpy as np"
   ]
  },
  {
   "cell_type": "code",
   "execution_count": 57,
   "id": "41e8c5d6",
   "metadata": {},
   "outputs": [],
   "source": [
    "def sigmoid(dt):\n",
    "    return 1/(1+np.exp(-dt))"
   ]
  },
  {
   "cell_type": "code",
   "execution_count": 105,
   "id": "eaaf154a",
   "metadata": {},
   "outputs": [],
   "source": [
    "def relu(dt):\n",
    "    return max(0,dt)"
   ]
  },
  {
   "cell_type": "code",
   "execution_count": 106,
   "id": "d79637de",
   "metadata": {},
   "outputs": [],
   "source": [
    "relu = np.vectorize(relu)"
   ]
  },
  {
   "cell_type": "code",
   "execution_count": 107,
   "id": "0df8a0ed",
   "metadata": {},
   "outputs": [],
   "source": [
    "def none(df):\n",
    "    return df"
   ]
  },
  {
   "cell_type": "code",
   "execution_count": 108,
   "id": "c2791600",
   "metadata": {},
   "outputs": [],
   "source": [
    "def drelu(x):\n",
    "    return x>0"
   ]
  },
  {
   "cell_type": "code",
   "execution_count": 109,
   "id": "b829551f",
   "metadata": {},
   "outputs": [],
   "source": [
    "drelu= np.vectorize(drelu)"
   ]
  },
  {
   "cell_type": "code",
   "execution_count": 69,
   "id": "28213b59",
   "metadata": {},
   "outputs": [],
   "source": [
    "import time"
   ]
  },
  {
   "cell_type": "code",
   "execution_count": 124,
   "id": "bc53d6ca",
   "metadata": {},
   "outputs": [],
   "source": [
    "class autoencoder:\n",
    "    def __init__(self,data_dim, encoding_dim, a1, a2):\n",
    "        self._a1 = a1\n",
    "        self._a2 = a2\n",
    "        self._ones = np.array([[1] for x in range(60000)])\n",
    "        self._data_dim = data_dim\n",
    "        self._m = 0 # data size\n",
    "        self._encoding_dim = encoding_dim\n",
    "        self._b1 = np.array([0. for x in range(encoding_dim)])\n",
    "        self._b2 = np.array([0. for x in range(data_dim)])\n",
    "        self._w1 = np.transpose([[(random.random()-0.5) for x in range(self._data_dim)] for y in range(self._encoding_dim)])\n",
    "        self._w2 = np.transpose([[(random.random()-0.5) for x in range(self._encoding_dim)] for y in range(self._data_dim)])\n",
    "        self._observed = np.array([])       \n",
    "        self._z = np.array([])\n",
    "        self._L = 0\n",
    "        self._y = np.array([])\n",
    "        self._ya = np.array([])\n",
    "        self._z = np.array([])\n",
    "        self._za = np.array([])\n",
    "        self._dL_dza = np.array([])\n",
    "        self._dza_dz = np.array([])\n",
    "        self._dL_dz = np.array([])\n",
    "        self._db2 = np.array([])\n",
    "        self._dw2 = np.array([])\n",
    "        self._dz_dya = np.array([])\n",
    "        self._dL_dya = np.array([])\n",
    "        self._dya_dy = np.array([])\n",
    "        self._dL_dy = np.array([])\n",
    "        self._db1 = np.array([])\n",
    "        self._dy_dw1 = np.array([])\n",
    "        self._dw1 = np.array([])\n",
    "\n",
    "    def encoder(self):\n",
    "        self._y = np.dot(self._observed,self._w1)+self._ones*self._b1 \n",
    "        self._ya = self._a1(self._y)\n",
    "    def decoder(self):\n",
    "        self._z = np.dot(self._ya, self._w2)+self._ones*self._b2\n",
    "        print(\"-\", end='')\n",
    "        self._za = self._a2(self._z)\n",
    "    def forward(self):\n",
    "        self.encoder()\n",
    "        print('-', end='')\n",
    "        self.decoder()\n",
    "        print(\"-\", end='')\n",
    "    def loss(self):\n",
    "        self._L = round(np.sum((self._observed-self._za)**2, axis=0)/(self._m),4)\n",
    "\n",
    "###decoding part backpropagation###\n",
    "    def dL_dza(self):\n",
    "        self._dL_dza = 2*(self._za-self._observed)/self._m\n",
    "    def dza_dz(self):\n",
    "        if self._a2==none:\n",
    "            self._dza_dz = 1\n",
    "        if self._a2==sigmoid:\n",
    "            self._dza_dz = self._za*(1-self._za)\n",
    "    def dL_dz(self):\n",
    "        self._dL_dz = self._dL_dza*self._dza_dz\n",
    "    def db2(self):\n",
    "        self._db2 = (np.sum(self._dL_dz,axis = 0).T)\n",
    "    def dw2(self):\n",
    "        self._dw2 = ((self._dL_dz.T).dot(self._ya).T)\n",
    "        print(\"-\", end='')\n",
    "###encoding part backpropagation###\n",
    "    def dz_dya(self):\n",
    "        self._dz_dya = self._w2.T\n",
    "    def dL_dya(self):\n",
    "        self._dL_dya = self._dL_dz.dot(self._dz_dya)\n",
    "    def dya_dy(self):\n",
    "         self._dya_dy = drelu(self._y)\n",
    "    def dL_dy(self):\n",
    "        self._dL_dy = (self._dL_dya*self._dya_dy).T\n",
    "    def db1(self):\n",
    "        self._db1 = np.sum(self._dL_dy.T,axis=0)\n",
    "    def dy_dw1(self):\n",
    "        self._dy_dw1 = self._observed\n",
    "    def dw1(self):\n",
    "        self._dw1 = (np.dot(self._dL_dy,self._dy_dw1).T)\n",
    "        print(\"-\", end='')\n",
    "    def update(self, learning_rate):\n",
    "        self._b2 -=learning_rate*self._db2\n",
    "        self._w2 -=learning_rate*self._dw2\n",
    "        self._b1 -=learning_rate*self._db1\n",
    "        self._w1 -=learning_rate*self._dw1\n",
    "    def backprop(self):\n",
    "        self.dL_dza()\n",
    "        self.dza_dz()\n",
    "        self.dL_dz()\n",
    "        self.db2()\n",
    "        self.dw2()\n",
    "        self.dz_dya()\n",
    "        self.dL_dya()\n",
    "        self.dya_dy()\n",
    "        self.dL_dy()\n",
    "        self.db1()\n",
    "        self.dy_dw1()\n",
    "        self.dw1()\n",
    "    def fit(self, input_data,learning_rate, itr):\n",
    "        self._observed = input_data\n",
    "        self._m = len(input_data)\n",
    "        for x in range(itr):\n",
    "            print('iteration', x+1, end=' ')\n",
    "            start_time = time.time()\n",
    "            self.forward()\n",
    "            self.backprop()\n",
    "            self.loss()\n",
    "            print(' loss:', self._L, '  var_explained: ', np.sum(np.var(self._za, axis = 0)), end='')\n",
    "            print(\"   --- %s seconds ---\" % round((time.time() - start_time),1))\n",
    "            self.update(learning_rate)"
   ]
  },
  {
   "cell_type": "markdown",
   "id": "e65410eb",
   "metadata": {},
   "source": [
    "            \n",
    "    x -> y = f(x) -> ya = a1(y) --> z = g(ya) -> za= a2(z) -> L = loss(za)\n",
    "    f(x) = x*w1+b1\n",
    "    g(y) = y*w2+b2\n",
    "    a1 = ReLU \n",
    "    a2 = sigmoid\n",
    "    loss = ((za-x)^2)/m, m is the len of data set"
   ]
  },
  {
   "cell_type": "code",
   "execution_count": 122,
   "id": "69e49d57",
   "metadata": {},
   "outputs": [
    {
     "name": "stdout",
     "output_type": "stream",
     "text": [
      "iteration 1 ----- loss: 6468.1726   var_explained:  2870.1616389395786   --- 3.7 seconds ---\n",
      "iteration 2 ----- loss: 1701.0651   var_explained:  661.9211041039644   --- 3.4 seconds ---\n",
      "iteration 3 ----- loss: 175.3994   var_explained:  7.834385159456377e-23   --- 3.7 seconds ---\n",
      "iteration 4 ----- loss: 131.2366   var_explained:  4.88288292783927e-23   --- 3.3 seconds ---\n",
      "iteration 5 ----- loss: 102.9724   var_explained:  3.969614567077857e-23   --- 3.4 seconds ---\n",
      "iteration 6 ----- loss: 84.8834   var_explained:  2.821535839301731e-23   --- 3.4 seconds ---\n",
      "iteration 7 ----- loss: 73.3064   var_explained:  2.30292541324234e-23   --- 3.4 seconds ---\n",
      "iteration 8 ----- loss: 65.8971   var_explained:  2.3672513877758436e-23   --- 3.4 seconds ---\n",
      "iteration 9 ----- loss: 61.1552   var_explained:  2.2816736648003716e-23   --- 3.4 seconds ---\n",
      "iteration 10 ----- loss: 58.1203   var_explained:  1.9497312625021006e-23   --- 3.5 seconds ---\n",
      "iteration 11 ----- loss: 56.178   var_explained:  2.331092595493745e-23   --- 3.4 seconds ---\n",
      "iteration 12 ----- loss: 54.9349   var_explained:  2.1177265163631897e-23   --- 3.4 seconds ---\n",
      "iteration 13 ----- loss: 54.1394   var_explained:  2.1162636620171317e-23   --- 3.4 seconds ---\n",
      "iteration 14 ----- loss: 53.6302   var_explained:  2.2494061070785422e-23   --- 3.4 seconds ---\n",
      "iteration 15 ----- loss: 53.3043   var_explained:  2.483736376605421e-23   --- 3.4 seconds ---\n",
      "iteration 16 ----- loss: 53.0958   var_explained:  2.240805262158799e-23   --- 3.4 seconds ---\n",
      "iteration 17 ----- loss: 52.9623   var_explained:  2.4032019635494746e-23   --- 3.4 seconds ---\n",
      "iteration 18 ----- loss: 52.8769   var_explained:  2.503160266354647e-23   --- 3.4 seconds ---\n",
      "iteration 19 ----- loss: 52.8222   var_explained:  2.402475598953297e-23   --- 3.5 seconds ---\n",
      "iteration 20 ----- loss: 52.7872   var_explained:  2.3506774876689046e-23   --- 3.4 seconds ---\n",
      "iteration 21 ----- loss: 52.7648   var_explained:  2.2750894579193798e-23   --- 3.4 seconds ---\n",
      "iteration 22 ----- loss: 52.7505   var_explained:  2.379761218223708e-23   --- 3.6 seconds ---\n",
      "iteration 23 ----- loss: 52.7413   var_explained:  2.5466173163866798e-23   --- 3.5 seconds ---\n",
      "iteration 24 ----- loss: 52.7355   var_explained:  2.2979239585038263e-23   --- 3.5 seconds ---\n",
      "iteration 25 ----- loss: 52.7317   var_explained:  2.670094498553915e-23   --- 3.4 seconds ---\n",
      "iteration 26 ----- loss: 52.7293   var_explained:  2.3099991355672705e-23   --- 3.5 seconds ---\n",
      "iteration 27 ----- loss: 52.7278   var_explained:  2.4418280023806516e-23   --- 3.6 seconds ---\n",
      "iteration 28 ----- loss: 52.7268   var_explained:  2.5082144118509863e-23   --- 3.4 seconds ---\n",
      "iteration 29 ----- loss: 52.7262   var_explained:  2.3786577800445814e-23   --- 3.4 seconds ---\n",
      "iteration 30 ----- loss: 52.7258   var_explained:  2.3557932368203053e-23   --- 3.4 seconds ---\n"
     ]
    }
   ],
   "source": [
    "ae = autoencoder(784,32, relu, none)\n",
    "ae.fit(X_train,0.1, 30)"
   ]
  },
  {
   "cell_type": "code",
   "execution_count": 125,
   "id": "531e50ec",
   "metadata": {},
   "outputs": [
    {
     "name": "stdout",
     "output_type": "stream",
     "text": [
      "iteration 1 ----- loss: 288.9332   var_explained:  53.47038402557708   --- 4.9 seconds ---\n",
      "iteration 2 ----- loss: 210.5613   var_explained:  36.68905362997789   --- 4.8 seconds ---\n",
      "iteration 3 ----- loss: 181.7556   var_explained:  7.365220817083177   --- 5.0 seconds ---\n",
      "iteration 4 ----- loss: 180.1712   var_explained:  10.77387096263887   --- 4.7 seconds ---\n",
      "iteration 5 ----- loss: 175.1008   var_explained:  7.715892658281819   --- 4.8 seconds ---\n",
      "iteration 6 ----- loss: 173.0745   var_explained:  10.939163006208716   --- 5.0 seconds ---\n",
      "iteration 7 ----- loss: 171.2124   var_explained:  10.570968873520801   --- 4.8 seconds ---\n",
      "iteration 8 ----- loss: 166.6687   var_explained:  10.585145368766781   --- 4.9 seconds ---\n",
      "iteration 9 ----- loss: 172.865   var_explained:  17.77798394686599   --- 4.7 seconds ---\n",
      "iteration 10 ----- loss: 181.1951   var_explained:  15.13251569706449   --- 4.8 seconds ---\n",
      "iteration 11 ----- loss: 165.982   var_explained:  10.638924323475376   --- 4.7 seconds ---\n",
      "iteration 12 ----- loss: 157.1012   var_explained:  6.837363954135849   --- 5.2 seconds ---\n",
      "iteration 13 ----- loss: 166.9963   var_explained:  8.637713936333984   --- 5.1 seconds ---\n",
      "iteration 14 ----- loss: 154.5766   var_explained:  5.4782185067510465   --- 4.8 seconds ---\n",
      "iteration 15 ----- loss: 149.9714   var_explained:  1.3720740120070185   --- 4.8 seconds ---\n",
      "iteration 16 ----- loss: 147.7941   var_explained:  1.9188855585868687   --- 5.1 seconds ---\n",
      "iteration 17 ----- loss: 146.3484   var_explained:  3.4149643963194234   --- 5.0 seconds ---\n",
      "iteration 18 ----- loss: 143.3488   var_explained:  1.4507507233918366   --- 4.7 seconds ---\n",
      "iteration 19 ----- loss: 141.1979   var_explained:  1.754997857412983   --- 5.1 seconds ---\n",
      "iteration 20 ----- loss: 141.0133   var_explained:  4.970999323126158   --- 5.2 seconds ---\n",
      "iteration 21 ----- loss: 137.2626   var_explained:  2.8930621101274383   --- 4.7 seconds ---\n",
      "iteration 22 ----- loss: 165.1857   var_explained:  6.150253475498444   --- 5.0 seconds ---\n",
      "iteration 23 ----- loss: 136.413   var_explained:  4.330018073835737   --- 5.4 seconds ---\n",
      "iteration 24 ----- loss: 131.9098   var_explained:  0.9334053788716143   --- 5.0 seconds ---\n",
      "iteration 25 ----- loss: 130.13   var_explained:  0.9819823028310837   --- 5.2 seconds ---\n",
      "iteration 26 ----- loss: 128.5534   var_explained:  1.2719959764294686   --- 4.9 seconds ---\n",
      "iteration 27 ----- loss: 126.8285   var_explained:  1.2304828906819787   --- 4.7 seconds ---\n",
      "iteration 28 ----- loss: 125.3497   var_explained:  1.5098555998720251   --- 5.0 seconds ---\n",
      "iteration 29 ----- loss: 123.6032   var_explained:  1.3831908577741987   --- 5.3 seconds ---\n",
      "iteration 30 ----- loss: 122.9413   var_explained:  3.390033660479369   --- 4.7 seconds ---\n",
      "iteration 31 ----- loss: 121.2308   var_explained:  2.9953567771084852   --- 4.8 seconds ---\n",
      "iteration 32 ----- loss: 119.1445   var_explained:  1.1095436355802932   --- 5.6 seconds ---\n",
      "iteration 33 ----- loss: 118.7532   var_explained:  2.7248407075713015   --- 5.8 seconds ---\n",
      "iteration 34 ----- loss: 116.4768   var_explained:  2.8215495073228953   --- 5.4 seconds ---\n",
      "iteration 35 ----- loss: 115.344   var_explained:  3.490333361202247   --- 5.2 seconds ---\n",
      "iteration 36 ----- loss: 114.0396   var_explained:  1.2036582864795395   --- 4.9 seconds ---\n",
      "iteration 37 ----- loss: 112.6845   var_explained:  1.0740834556102614   --- 4.8 seconds ---\n",
      "iteration 38 ----- loss: 111.5313   var_explained:  1.2069533176452891   --- 4.8 seconds ---\n",
      "iteration 39 ----- loss: 110.3565   var_explained:  1.2543697172871986   --- 5.3 seconds ---\n",
      "iteration 40 ----- loss: 109.2373   var_explained:  1.341360487694772   --- 5.0 seconds ---\n",
      "iteration 41 ----- loss: 108.1412   var_explained:  1.4282164804272406   --- 4.9 seconds ---\n",
      "iteration 42 ----- loss: 107.0639   var_explained:  1.5153398159468965   --- 5.0 seconds ---\n",
      "iteration 43 ----- loss: 106.038   var_explained:  1.7318208310727568   --- 4.8 seconds ---\n",
      "iteration 44 ----- loss: 104.3619   var_explained:  2.5444868749778418   --- 4.9 seconds ---\n",
      "iteration 45 ----- loss: 158.0961   var_explained:  4.013724633354006   --- 4.9 seconds ---\n",
      "iteration 46 ----- loss: 132.7245   var_explained:  10.569468341671826   --- 5.6 seconds ---\n",
      "iteration 47 ----- loss: 102.4096   var_explained:  0.9265238087688727   --- 4.9 seconds ---\n",
      "iteration 48 ----- loss: 101.1889   var_explained:  0.5656256042578431   --- 4.7 seconds ---\n",
      "iteration 49 ----- loss: 100.2853   var_explained:  0.5619013502432579   --- 4.9 seconds ---\n",
      "iteration 50 ----- loss: 99.4128   var_explained:  0.5669744040983458   --- 4.8 seconds ---\n"
     ]
    }
   ],
   "source": [
    "ae = autoencoder(784,32, relu, sigmoid)\n",
    "ae.fit(X_train, 0.1, 50)"
   ]
  },
  {
   "cell_type": "markdown",
   "id": "c064d668",
   "metadata": {},
   "source": [
    "#### problems still exist in my autoencoder"
   ]
  },
  {
   "cell_type": "markdown",
   "id": "04a0857a",
   "metadata": {
    "scrolled": true
   },
   "source": [
    "    the loss(sum of squared error) is decreasing which is good, but the explained variance is also decreasing which is weired and I don't know why. "
   ]
  },
  {
   "cell_type": "markdown",
   "id": "6920b86f",
   "metadata": {},
   "source": [
    "    if I don't use second activation function, the loss decreases steady to a optimal number. \n",
    "    when I add sigmoid activation fucntion to the final output, the decrease of the loss is unstable"
   ]
  },
  {
   "cell_type": "code",
   "execution_count": null,
   "id": "a98833fd",
   "metadata": {
    "scrolled": true
   },
   "outputs": [],
   "source": []
  },
  {
   "cell_type": "code",
   "execution_count": null,
   "id": "06f38055",
   "metadata": {},
   "outputs": [],
   "source": []
  },
  {
   "cell_type": "code",
   "execution_count": null,
   "id": "aad3e11c",
   "metadata": {},
   "outputs": [],
   "source": []
  },
  {
   "cell_type": "code",
   "execution_count": null,
   "id": "85daf99f",
   "metadata": {},
   "outputs": [],
   "source": []
  },
  {
   "cell_type": "code",
   "execution_count": null,
   "id": "e982500d",
   "metadata": {},
   "outputs": [],
   "source": []
  },
  {
   "cell_type": "code",
   "execution_count": null,
   "id": "db449928",
   "metadata": {},
   "outputs": [],
   "source": []
  }
 ],
 "metadata": {
  "kernelspec": {
   "display_name": "Python 3 (ipykernel)",
   "language": "python",
   "name": "python3"
  },
  "language_info": {
   "codemirror_mode": {
    "name": "ipython",
    "version": 3
   },
   "file_extension": ".py",
   "mimetype": "text/x-python",
   "name": "python",
   "nbconvert_exporter": "python",
   "pygments_lexer": "ipython3",
   "version": "3.10.4"
  }
 },
 "nbformat": 4,
 "nbformat_minor": 5
}
