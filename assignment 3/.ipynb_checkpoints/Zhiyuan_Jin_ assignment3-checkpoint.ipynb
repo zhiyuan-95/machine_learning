{
 "cells": [
  {
   "cell_type": "markdown",
   "id": "daea82f2",
   "metadata": {},
   "source": [
    "### Part A: PCA"
   ]
  },
  {
   "cell_type": "code",
   "execution_count": 1,
   "id": "9ec5418b",
   "metadata": {},
   "outputs": [],
   "source": [
    "import numpy as np"
   ]
  },
  {
   "cell_type": "code",
   "execution_count": 2,
   "id": "9d296380",
   "metadata": {
    "scrolled": true
   },
   "outputs": [],
   "source": [
    "import tensorflow as tf\n",
    "mnist=tf.keras.datasets.mnist\n",
    "(X_train, y_train), (X_test, y_test) = mnist.load_data()"
   ]
  },
  {
   "cell_type": "markdown",
   "id": "0031fa3c",
   "metadata": {},
   "source": [
    "#### 1. Perform Exploratory Data Analysis (EDA) on X_train and discuss the data and what you observe prior to beginning modeling (visualize the images) "
   ]
  },
  {
   "cell_type": "code",
   "execution_count": 3,
   "id": "7e65b5ee",
   "metadata": {},
   "outputs": [
    {
     "data": {
      "image/png": "[encoded data removed]",
      "text/plain": [
       "<Figure size 432x288 with 1 Axes>"
      ]
     },
     "metadata": {
      "needs_background": "light"
     },
     "output_type": "display_data"
    }
   ],
   "source": [
    "import matplotlib.pyplot as plt\n",
    "plt.imshow(X_train[0],\n",
    "           cmap=plt.cm.binary)\n",
    "plt.show()"
   ]
  },
  {
   "cell_type": "code",
   "execution_count": 4,
   "id": "7aa49be6",
   "metadata": {},
   "outputs": [],
   "source": [
    "X_train_reshaped =[]\n",
    "for x in X_train:\n",
    "    X_train_reshaped.append(x.reshape(1,784)[0])\n",
    "X_train = np.array(X_train_reshaped)"
   ]
  },
  {
   "cell_type": "code",
   "execution_count": 5,
   "id": "253dc254",
   "metadata": {},
   "outputs": [],
   "source": [
    "X_test_reshaped = []\n",
    "for x in X_test:\n",
    "    X_test_reshaped.append(x.reshape(1,784)[0])\n",
    "X_test = np.array(X_test_reshaped)"
   ]
  },
  {
   "cell_type": "markdown",
   "id": "989efd98",
   "metadata": {},
   "source": [
    "In this data set, each data is 28*28 2 dimention image"
   ]
  },
  {
   "cell_type": "markdown",
   "id": "2f96dce6",
   "metadata": {},
   "source": [
    "##### 2. Normalize the image data so the pixel values are between 0 and 1."
   ]
  },
  {
   "cell_type": "code",
   "execution_count": 6,
   "id": "96ae0cee",
   "metadata": {},
   "outputs": [],
   "source": [
    "X_train = X_train/255\n",
    "X_test = X_test/255"
   ]
  },
  {
   "cell_type": "code",
   "execution_count": null,
   "id": "6b43d265",
   "metadata": {},
   "outputs": [],
   "source": []
  },
  {
   "cell_type": "markdown",
   "id": "0410355a",
   "metadata": {},
   "source": [
    "##### 3. Use PCA to reduce the 784 dimensions of the data to 32 dimensions using X_train"
   ]
  },
  {
   "cell_type": "code",
   "execution_count": 7,
   "id": "da65baa3",
   "metadata": {},
   "outputs": [
    {
     "name": "stdout",
     "output_type": "stream",
     "text": [
      "X shape: (60000, 784)\n",
      "X_reduced shape: (60000, 32)\n"
     ]
    }
   ],
   "source": [
    "from sklearn.decomposition import PCA\n",
    "\n",
    "pca = PCA(n_components=32)\n",
    "X_reduced = pca.fit_transform(X_train)\n",
    "\n",
    "print('X shape:', X_train.shape)\n",
    "print('X_reduced shape:', X_reduced.shape)"
   ]
  },
  {
   "cell_type": "code",
   "execution_count": null,
   "id": "d80e08db",
   "metadata": {},
   "outputs": [],
   "source": []
  },
  {
   "cell_type": "code",
   "execution_count": null,
   "id": "e1011809",
   "metadata": {},
   "outputs": [],
   "source": []
  },
  {
   "cell_type": "code",
   "execution_count": null,
   "id": "690f0e89",
   "metadata": {},
   "outputs": [],
   "source": []
  },
  {
   "cell_type": "markdown",
   "id": "eca4199e",
   "metadata": {},
   "source": [
    "##### 4. Transform X_train, discuss the original variance in X_train and how much variance is explained by the 32 components. Plot the variance explained as a function of the number of components used and explain why the shape of the plot is what it is (use what we know about PCA) "
   ]
  },
  {
   "cell_type": "code",
   "execution_count": 8,
   "id": "c5229d3a",
   "metadata": {},
   "outputs": [
    {
     "name": "stdout",
     "output_type": "stream",
     "text": [
      "original varience:  52.72503549512755\n",
      "variance explained by 32 components:  39.20614368059329\n"
     ]
    },
    {
     "data": {
      "text/plain": [
       "[<matplotlib.lines.Line2D at 0x1aa66104d30>]"
      ]
     },
     "execution_count": 8,
     "metadata": {},
     "output_type": "execute_result"
    },
    {
     "data": {
      "image/png": "[encoded data removed]",
      "text/plain": [
       "<Figure size 432x288 with 1 Axes>"
      ]
     },
     "metadata": {
      "needs_background": "light"
     },
     "output_type": "display_data"
    }
   ],
   "source": [
    "total_var = np.sum(np.var(X_train,axis=0))\n",
    "print(\"original varience: \",np.sum(np.var(X_train,axis=0)))\n",
    "print('variance explained by 32 components: ', np.sum(pca.explained_variance_))\n",
    "plt.plot(pca.explained_variance_)"
   ]
  },
  {
   "cell_type": "code",
   "execution_count": null,
   "id": "fee89564",
   "metadata": {},
   "outputs": [],
   "source": []
  },
  {
   "cell_type": "markdown",
   "id": "0c6f0d45",
   "metadata": {},
   "source": [
    "It means the top ranked components explain the most part of the varience of this data set, the explained variance geting less and less with the rank of the componant geting lower and lower."
   ]
  },
  {
   "cell_type": "markdown",
   "id": "04e2feaf",
   "metadata": {},
   "source": [
    "##### 5. Using the transform fit on X_train, transform X_test and discuss the original variance in X_test and how much variance is explained on X_test by the 32 components. "
   ]
  },
  {
   "cell_type": "code",
   "execution_count": 9,
   "id": "d1b86335",
   "metadata": {},
   "outputs": [],
   "source": [
    "pca_test = PCA(n_components=32)\n",
    "pca_test.fit(X_train)\n",
    "test_reduced = pca.transform(X_test)"
   ]
  },
  {
   "cell_type": "code",
   "execution_count": 10,
   "id": "92f6ae9c",
   "metadata": {},
   "outputs": [
    {
     "data": {
      "text/plain": [
       "[<matplotlib.lines.Line2D at 0x1aa678541f0>]"
      ]
     },
     "execution_count": 10,
     "metadata": {},
     "output_type": "execute_result"
    },
    {
     "data": {
      "image/png": "[encoded data removed]",
      "text/plain": [
       "<Figure size 432x288 with 1 Axes>"
      ]
     },
     "metadata": {
      "needs_background": "light"
     },
     "output_type": "display_data"
    }
   ],
   "source": [
    "plt.plot(np.var(test_reduced,axis=0))"
   ]
  },
  {
   "cell_type": "code",
   "execution_count": 11,
   "id": "5d792846",
   "metadata": {},
   "outputs": [
    {
     "name": "stdout",
     "output_type": "stream",
     "text": [
      "original test varience:  52.84824867142073\n",
      "variance explained by 32 components:  39.65622082513719\n"
     ]
    }
   ],
   "source": [
    "print(\"original test varience: \",np.sum(np.var(X_test,axis=0)))\n",
    "print('variance explained by 32 components: ', np.sum(np.var(test_reduced,axis=0)))"
   ]
  },
  {
   "cell_type": "markdown",
   "id": "4d61b717",
   "metadata": {},
   "source": [
    "##### 6. Compare results from #4 and #5"
   ]
  },
  {
   "cell_type": "code",
   "execution_count": 12,
   "id": "90491217",
   "metadata": {},
   "outputs": [],
   "source": [
    "import pandas as pd"
   ]
  },
  {
   "cell_type": "code",
   "execution_count": 13,
   "id": "4815d240",
   "metadata": {},
   "outputs": [],
   "source": [
    "a = [[np.sum(np.var(X_train,axis=0)),np.sum(pca.explained_variance_)],[np.sum(np.var(X_test,axis=0)),np.sum(np.var(test_reduced,axis=0))]]"
   ]
  },
  {
   "cell_type": "code",
   "execution_count": null,
   "id": "104ae0cf",
   "metadata": {},
   "outputs": [],
   "source": []
  },
  {
   "cell_type": "code",
   "execution_count": 14,
   "id": "9ce5e3b1",
   "metadata": {},
   "outputs": [],
   "source": [
    "compare = pd.DataFrame(a,columns=['train','test'], index = ['total_var','explained_var'])"
   ]
  },
  {
   "cell_type": "code",
   "execution_count": 15,
   "id": "1d7a5c67",
   "metadata": {},
   "outputs": [
    {
     "data": {
      "text/html": [
       "<div>\n",
       "<style scoped>\n",
       "    .dataframe tbody tr th:only-of-type {\n",
       "        vertical-align: middle;\n",
       "    }\n",
       "\n",
       "    .dataframe tbody tr th {\n",
       "        vertical-align: top;\n",
       "    }\n",
       "\n",
       "    .dataframe thead th {\n",
       "        text-align: right;\n",
       "    }\n",
       "</style>\n",
       "<table border=\"1\" class=\"dataframe\">\n",
       "  <thead>\n",
       "    <tr style=\"text-align: right;\">\n",
       "      <th></th>\n",
       "      <th>train</th>\n",
       "      <th>test</th>\n",
       "    </tr>\n",
       "  </thead>\n",
       "  <tbody>\n",
       "    <tr>\n",
       "      <th>total_var</th>\n",
       "      <td>52.725035</td>\n",
       "      <td>39.206144</td>\n",
       "    </tr>\n",
       "    <tr>\n",
       "      <th>explained_var</th>\n",
       "      <td>52.848249</td>\n",
       "      <td>39.656221</td>\n",
       "    </tr>\n",
       "  </tbody>\n",
       "</table>\n",
       "</div>"
      ],
      "text/plain": [
       "                   train       test\n",
       "total_var      52.725035  39.206144\n",
       "explained_var  52.848249  39.656221"
      ]
     },
     "execution_count": 15,
     "metadata": {},
     "output_type": "execute_result"
    }
   ],
   "source": [
    "compare"
   ]
  },
  {
   "cell_type": "markdown",
   "id": "bc53caea",
   "metadata": {},
   "source": [
    "### Part B: AutoEncoder"
   ]
  },
  {
   "cell_type": "markdown",
   "id": "8099e997",
   "metadata": {},
   "source": [
    "##### 1. Start with data after step #2 from Section A"
   ]
  },
  {
   "cell_type": "code",
   "execution_count": 16,
   "id": "48e9a114",
   "metadata": {},
   "outputs": [
    {
     "name": "stdout",
     "output_type": "stream",
     "text": [
      "(60000, 784)\n",
      "(10000, 784)\n"
     ]
    }
   ],
   "source": [
    "print(X_train.shape)\n",
    "print(X_test.shape)"
   ]
  },
  {
   "cell_type": "markdown",
   "id": "e48728d6",
   "metadata": {},
   "source": [
    "##### 2. Build an autoencoder (either at least 1 hidden layer or using CNN) that will reduce the 784 dimensions of the data to 32 dimensions"
   ]
  },
  {
   "cell_type": "code",
   "execution_count": 17,
   "id": "d854fc4f",
   "metadata": {},
   "outputs": [],
   "source": [
    "import keras\n",
    "from keras import layers\n",
    "\n",
    "# This is the size of our encoded representations\n",
    "encoding_dim = 32  # 32 floats -> compression of factor 24.5, assuming the input is 784 floats\n",
    "\n",
    "# This is our input image\n",
    "input_img = keras.Input(shape=(784,))\n",
    "\n",
    "# \"encoded\" is the encoded representation of the input\n",
    "encoded = layers.Dense(encoding_dim, activation='relu')(input_img)\n",
    "\n",
    "# \"decoded\" is the lossy reconstruction of the input\n",
    "decoded = layers.Dense(784, activation='sigmoid')(encoded)\n",
    "\n",
    "# This model maps an input to its reconstruction\n",
    "autoencoder = keras.Model(input_img, decoded)"
   ]
  },
  {
   "cell_type": "markdown",
   "id": "cd8a15a4",
   "metadata": {},
   "source": [
    "---"
   ]
  },
  {
   "cell_type": "markdown",
   "id": "a503425a",
   "metadata": {},
   "source": [
    "##### 3. Train an autoencoder on X_train. Discuss the original variance in X_train and how much variance is explained by the 32 dimensions. Hint: Use “model.predict(X_train)” to get predictions"
   ]
  },
  {
   "cell_type": "markdown",
   "id": "6bfc49b6",
   "metadata": {},
   "source": [
    "configuration: "
   ]
  },
  {
   "cell_type": "code",
   "execution_count": 18,
   "id": "23abb7d5",
   "metadata": {},
   "outputs": [],
   "source": [
    "autoencoder.compile(optimizer='adam',loss='binary_crossentropy')"
   ]
  },
  {
   "cell_type": "code",
   "execution_count": 19,
   "id": "482ffa60",
   "metadata": {},
   "outputs": [
    {
     "name": "stdout",
     "output_type": "stream",
     "text": [
      "Epoch 1/50\n",
      "235/235 [==============================] - 3s 11ms/step - loss: 0.2777 - val_loss: 0.1934\n",
      "Epoch 2/50\n",
      "235/235 [==============================] - 3s 14ms/step - loss: 0.1736 - val_loss: 0.1555\n",
      "Epoch 3/50\n",
      "235/235 [==============================] - 3s 15ms/step - loss: 0.1454 - val_loss: 0.1342\n",
      "Epoch 4/50\n",
      "235/235 [==============================] - 4s 15ms/step - loss: 0.1289 - val_loss: 0.1220\n",
      "Epoch 5/50\n",
      "235/235 [==============================] - 3s 12ms/step - loss: 0.1189 - val_loss: 0.1137\n",
      "Epoch 6/50\n",
      "235/235 [==============================] - 2s 11ms/step - loss: 0.1122 - val_loss: 0.1082\n",
      "Epoch 7/50\n",
      "235/235 [==============================] - 3s 15ms/step - loss: 0.1071 - val_loss: 0.1037\n",
      "Epoch 8/50\n",
      "235/235 [==============================] - 3s 12ms/step - loss: 0.1032 - val_loss: 0.1003\n",
      "Epoch 9/50\n",
      "235/235 [==============================] - 2s 10ms/step - loss: 0.1002 - val_loss: 0.0977\n",
      "Epoch 10/50\n",
      "235/235 [==============================] - 4s 15ms/step - loss: 0.0981 - val_loss: 0.0960\n",
      "Epoch 11/50\n",
      "235/235 [==============================] - 4s 16ms/step - loss: 0.0966 - val_loss: 0.0948\n",
      "Epoch 12/50\n",
      "235/235 [==============================] - 4s 15ms/step - loss: 0.0957 - val_loss: 0.0940\n",
      "Epoch 13/50\n",
      "235/235 [==============================] - 3s 12ms/step - loss: 0.0950 - val_loss: 0.0935\n",
      "Epoch 14/50\n",
      "235/235 [==============================] - 3s 15ms/step - loss: 0.0946 - val_loss: 0.0931\n",
      "Epoch 15/50\n",
      "235/235 [==============================] - 3s 15ms/step - loss: 0.0943 - val_loss: 0.0930\n",
      "Epoch 16/50\n",
      "235/235 [==============================] - 3s 14ms/step - loss: 0.0941 - val_loss: 0.0927\n",
      "Epoch 17/50\n",
      "235/235 [==============================] - 3s 13ms/step - loss: 0.0939 - val_loss: 0.0925\n",
      "Epoch 18/50\n",
      "235/235 [==============================] - 2s 10ms/step - loss: 0.0938 - val_loss: 0.0924\n",
      "Epoch 19/50\n",
      "235/235 [==============================] - 2s 10ms/step - loss: 0.0937 - val_loss: 0.0924\n",
      "Epoch 20/50\n",
      "235/235 [==============================] - 3s 12ms/step - loss: 0.0935 - val_loss: 0.0923\n",
      "Epoch 21/50\n",
      "235/235 [==============================] - 2s 10ms/step - loss: 0.0935 - val_loss: 0.0922\n",
      "Epoch 22/50\n",
      "235/235 [==============================] - 3s 14ms/step - loss: 0.0934 - val_loss: 0.0922\n",
      "Epoch 23/50\n",
      "235/235 [==============================] - 2s 9ms/step - loss: 0.0933 - val_loss: 0.0921\n",
      "Epoch 24/50\n",
      "235/235 [==============================] - 2s 9ms/step - loss: 0.0933 - val_loss: 0.0920\n",
      "Epoch 25/50\n",
      "235/235 [==============================] - 2s 9ms/step - loss: 0.0932 - val_loss: 0.0920\n",
      "Epoch 26/50\n",
      "235/235 [==============================] - 2s 9ms/step - loss: 0.0932 - val_loss: 0.0919\n",
      "Epoch 27/50\n",
      "235/235 [==============================] - 3s 14ms/step - loss: 0.0931 - val_loss: 0.0919\n",
      "Epoch 28/50\n",
      "235/235 [==============================] - 3s 11ms/step - loss: 0.0931 - val_loss: 0.0918\n",
      "Epoch 29/50\n",
      "235/235 [==============================] - 4s 16ms/step - loss: 0.0931 - val_loss: 0.0918\n",
      "Epoch 30/50\n",
      "235/235 [==============================] - 3s 12ms/step - loss: 0.0930 - val_loss: 0.0918\n",
      "Epoch 31/50\n",
      "235/235 [==============================] - 2s 9ms/step - loss: 0.0930 - val_loss: 0.0918\n",
      "Epoch 32/50\n",
      "235/235 [==============================] - 3s 14ms/step - loss: 0.0930 - val_loss: 0.0918\n",
      "Epoch 33/50\n",
      "235/235 [==============================] - 3s 11ms/step - loss: 0.0929 - val_loss: 0.0917\n",
      "Epoch 34/50\n",
      "235/235 [==============================] - 2s 10ms/step - loss: 0.0929 - val_loss: 0.0918\n",
      "Epoch 35/50\n",
      "235/235 [==============================] - 3s 13ms/step - loss: 0.0929 - val_loss: 0.0917\n",
      "Epoch 36/50\n",
      "235/235 [==============================] - 3s 11ms/step - loss: 0.0929 - val_loss: 0.0917\n",
      "Epoch 37/50\n",
      "235/235 [==============================] - 2s 9ms/step - loss: 0.0928 - val_loss: 0.0917\n",
      "Epoch 38/50\n",
      "235/235 [==============================] - 2s 9ms/step - loss: 0.0928 - val_loss: 0.0917\n",
      "Epoch 39/50\n",
      "235/235 [==============================] - 2s 10ms/step - loss: 0.0928 - val_loss: 0.0917\n",
      "Epoch 40/50\n",
      "235/235 [==============================] - 3s 13ms/step - loss: 0.0928 - val_loss: 0.0916\n",
      "Epoch 41/50\n",
      "235/235 [==============================] - 2s 9ms/step - loss: 0.0928 - val_loss: 0.0916\n",
      "Epoch 42/50\n",
      "235/235 [==============================] - 2s 9ms/step - loss: 0.0927 - val_loss: 0.0916\n",
      "Epoch 43/50\n",
      "235/235 [==============================] - 2s 10ms/step - loss: 0.0927 - val_loss: 0.0916\n",
      "Epoch 44/50\n",
      "235/235 [==============================] - 3s 12ms/step - loss: 0.0927 - val_loss: 0.0916\n",
      "Epoch 45/50\n",
      "235/235 [==============================] - 2s 9ms/step - loss: 0.0927 - val_loss: 0.0915\n",
      "Epoch 46/50\n",
      "235/235 [==============================] - 2s 10ms/step - loss: 0.0927 - val_loss: 0.0915\n",
      "Epoch 47/50\n",
      "235/235 [==============================] - 2s 9ms/step - loss: 0.0927 - val_loss: 0.0915\n",
      "Epoch 48/50\n",
      "235/235 [==============================] - 2s 10ms/step - loss: 0.0927 - val_loss: 0.0917\n",
      "Epoch 49/50\n",
      "235/235 [==============================] - 2s 9ms/step - loss: 0.0927 - val_loss: 0.0916\n",
      "Epoch 50/50\n",
      "235/235 [==============================] - 2s 9ms/step - loss: 0.0927 - val_loss: 0.0916\n"
     ]
    },
    {
     "data": {
      "text/plain": [
       "<keras.callbacks.History at 0x1aa679bab90>"
      ]
     },
     "execution_count": 19,
     "metadata": {},
     "output_type": "execute_result"
    }
   ],
   "source": [
    "autoencoder.fit(X_train, X_train,\n",
    "                epochs=50,\n",
    "                batch_size=256,\n",
    "                shuffle=True,\n",
    "                validation_data=(X_test, X_test))"
   ]
  },
  {
   "cell_type": "code",
   "execution_count": 20,
   "id": "36c12909",
   "metadata": {},
   "outputs": [],
   "source": [
    "prediction = autoencoder.predict(X_train)"
   ]
  },
  {
   "cell_type": "code",
   "execution_count": 21,
   "id": "49c1d7ff",
   "metadata": {},
   "outputs": [],
   "source": [
    "explained_var_train = np.sum(np.var(prediction,axis = 0))"
   ]
  },
  {
   "cell_type": "code",
   "execution_count": 22,
   "id": "216550a1",
   "metadata": {},
   "outputs": [],
   "source": [
    "total_var_train = np.sum(np.var(X_train,axis = 0))"
   ]
  },
  {
   "cell_type": "code",
   "execution_count": 23,
   "id": "47513d90",
   "metadata": {
    "scrolled": true
   },
   "outputs": [],
   "source": [
    "explained_train = explained_var_train/total_var_train"
   ]
  },
  {
   "cell_type": "markdown",
   "id": "8018d7d3",
   "metadata": {},
   "source": [
    "##### 4. Using the model trained on X_train, transform X_test and discuss the original variance in X_test and how much variance is explained on X_test by the 32 dimensions of the autoencoder. Hint: Use “model.predict(X_test)” to get predictions."
   ]
  },
  {
   "cell_type": "code",
   "execution_count": 24,
   "id": "a4317f9e",
   "metadata": {},
   "outputs": [],
   "source": [
    "prediction = autoencoder.predict(X_test)"
   ]
  },
  {
   "cell_type": "code",
   "execution_count": 25,
   "id": "2f48b6dd",
   "metadata": {},
   "outputs": [],
   "source": [
    "explained_var_test = np.sum(np.var(prediction,axis = 0))"
   ]
  },
  {
   "cell_type": "code",
   "execution_count": 26,
   "id": "4155e385",
   "metadata": {},
   "outputs": [],
   "source": [
    "total_var_test = np.sum(np.var(X_test, axis = 0))"
   ]
  },
  {
   "cell_type": "code",
   "execution_count": 27,
   "id": "eaf66503",
   "metadata": {},
   "outputs": [],
   "source": [
    "explained_test = explained_var_test/total_var_test"
   ]
  },
  {
   "cell_type": "markdown",
   "id": "11ce55fc",
   "metadata": {},
   "source": [
    "##### 5. Compare results from #3 and #4 and why it is important to test out of sample"
   ]
  },
  {
   "cell_type": "code",
   "execution_count": 28,
   "id": "7ece8c8d",
   "metadata": {},
   "outputs": [],
   "source": [
    "compare  = pd.DataFrame(index = ['train', 'test'])"
   ]
  },
  {
   "cell_type": "code",
   "execution_count": 29,
   "id": "6cd54833",
   "metadata": {},
   "outputs": [],
   "source": [
    "compare['% variation_explained'] = [explained_train, explained_test]"
   ]
  },
  {
   "cell_type": "code",
   "execution_count": 30,
   "id": "02e88470",
   "metadata": {},
   "outputs": [
    {
     "data": {
      "text/html": [
       "<div>\n",
       "<style scoped>\n",
       "    .dataframe tbody tr th:only-of-type {\n",
       "        vertical-align: middle;\n",
       "    }\n",
       "\n",
       "    .dataframe tbody tr th {\n",
       "        vertical-align: top;\n",
       "    }\n",
       "\n",
       "    .dataframe thead th {\n",
       "        text-align: right;\n",
       "    }\n",
       "</style>\n",
       "<table border=\"1\" class=\"dataframe\">\n",
       "  <thead>\n",
       "    <tr style=\"text-align: right;\">\n",
       "      <th></th>\n",
       "      <th>% variation_explained</th>\n",
       "    </tr>\n",
       "  </thead>\n",
       "  <tbody>\n",
       "    <tr>\n",
       "      <th>train</th>\n",
       "      <td>0.853181</td>\n",
       "    </tr>\n",
       "    <tr>\n",
       "      <th>test</th>\n",
       "      <td>0.859235</td>\n",
       "    </tr>\n",
       "  </tbody>\n",
       "</table>\n",
       "</div>"
      ],
      "text/plain": [
       "       % variation_explained\n",
       "train               0.853181\n",
       "test                0.859235"
      ]
     },
     "execution_count": 30,
     "metadata": {},
     "output_type": "execute_result"
    }
   ],
   "source": [
    "compare"
   ]
  },
  {
   "cell_type": "markdown",
   "id": "b40fcae4",
   "metadata": {},
   "source": [
    "because we can test if our model is overfitted by testing out of sample"
   ]
  },
  {
   "cell_type": "markdown",
   "id": "598df0a2",
   "metadata": {},
   "source": [
    "### Part C: Explain Results"
   ]
  },
  {
   "cell_type": "markdown",
   "id": "b336bcd9",
   "metadata": {},
   "source": [
    "autoencoder explains more variantion, because PCA only explain linear relation ship, autoencoder can also explain non_linear relationship."
   ]
  },
  {
   "cell_type": "markdown",
   "id": "a0e63cca",
   "metadata": {},
   "source": [
    "PCA has 784 parameters;\n",
    "autoencoder has 784x32x2+32+784 = 50992 parameters"
   ]
  },
  {
   "cell_type": "markdown",
   "id": "ed92eb34",
   "metadata": {},
   "source": [
    "we use PCA when the data set only has linear relationship, otherwise we use Autoencoder"
   ]
  },
  {
   "cell_type": "markdown",
   "id": "dce55155",
   "metadata": {},
   "source": [
    "### Part D: Extra Credit"
   ]
  },
  {
   "cell_type": "code",
   "execution_count": 131,
   "id": "7c651616",
   "metadata": {},
   "outputs": [],
   "source": [
    "import math"
   ]
  },
  {
   "cell_type": "code",
   "execution_count": 134,
   "id": "41e8c5d6",
   "metadata": {},
   "outputs": [],
   "source": [
    "def sigmoid(dt):\n",
    "    return 1/(1+math.exp(-dt))"
   ]
  },
  {
   "cell_type": "code",
   "execution_count": 135,
   "id": "eaaf154a",
   "metadata": {},
   "outputs": [],
   "source": [
    "def relu(dt):\n",
    "    return max(0,dt)"
   ]
  },
  {
   "cell_type": "code",
   "execution_count": 136,
   "id": "c38c3738",
   "metadata": {},
   "outputs": [],
   "source": [
    "sigmoid_vec = np.vectorize(sigmoid)"
   ]
  },
  {
   "cell_type": "code",
   "execution_count": 137,
   "id": "d79637de",
   "metadata": {},
   "outputs": [],
   "source": [
    "relu_vec = np.vectorize(relu)"
   ]
  },
  {
   "cell_type": "code",
   "execution_count": 32,
   "id": "12c0ea0a",
   "metadata": {},
   "outputs": [],
   "source": [
    "import random\n",
    "encoder_w = []\n",
    "encoder_b = [0 for x in range(32)]\n",
    "for x in range(32):\n",
    "    weight = []\n",
    "    for y in range(784):\n",
    "        weight.append(random.random())\n",
    "    encoder_w.append(weight)\n",
    "\n",
    "encoder_w = np.array(encoder_w)\n",
    "\n",
    "encoder_b = np.array(encoder_b)"
   ]
  },
  {
   "cell_type": "code",
   "execution_count": 33,
   "id": "3a1703d2",
   "metadata": {},
   "outputs": [],
   "source": [
    "decoder_w = []\n",
    "decoder_b = [0 for x in range(784)]\n",
    "for x in range(784):\n",
    "    weight = []\n",
    "    for y in range(32):\n",
    "        weight.append(random.random())\n",
    "    decoder_w.append(weight)\n",
    "decoder_w = np.array(decoder_w)"
   ]
  },
  {
   "cell_type": "code",
   "execution_count": 140,
   "id": "e7afca02",
   "metadata": {},
   "outputs": [],
   "source": [
    "def encoder(input_data,encoding_dim, activation = relu_vec):\n",
    "    ones = np.array([[1] for x in range(len(input_data))])\n",
    "    # x1 = x*w+b,  x-> (60000x784), w-> (784x32), b-> (60000x32)\n",
    "    x1 = np.dot(input_data,np.transpose(encoder_w))+ones*encoder_b \n",
    "    x2 = activation(x1)\n",
    "    return x2"
   ]
  },
  {
   "cell_type": "code",
   "execution_count": 141,
   "id": "86f8bc30",
   "metadata": {},
   "outputs": [],
   "source": [
    "def decoder(encoded_data, output_dim, activation = sigmoid_vec):\n",
    "    ones = np.array([[1] for x in range(len(encoded_data))])\n",
    "    y1 = np.dot(encoded_data, np.transpose(decoder_w))+ones*decoder_b\n",
    "    y2 = activation(y1)\n",
    "    return y2"
   ]
  },
  {
   "cell_type": "code",
   "execution_count": 176,
   "id": "bc53d6ca",
   "metadata": {},
   "outputs": [
    {
     "ename": "SyntaxError",
     "evalue": "incomplete input (473288390.py, line 24)",
     "output_type": "error",
     "traceback": [
      "\u001b[1;36m  Input \u001b[1;32mIn [176]\u001b[1;36m\u001b[0m\n\u001b[1;33m    \u001b[0m\n\u001b[1;37m    ^\u001b[0m\n\u001b[1;31mSyntaxError\u001b[0m\u001b[1;31m:\u001b[0m incomplete input\n"
     ]
    }
   ],
   "source": [
    "class autoencoder:\n",
    "    def __init__(self,data_dim, encoding_dim):\n",
    "        self._ones = np.array([[1] for x in range(60000)])\n",
    "        self._data_dim = data_dim\n",
    "        self._encoding_dim = encoding_dim\n",
    "        self._encoder_b = np.array([0 for x in range(encoding_dim)])\n",
    "        self._decoder_b = np.array([0 for x in range(data_dim)])\n",
    "        self._encoder_w = np.transpose([[random.random() for x in range(self._data_dim)] for y in range(self._encoding_dim)])\n",
    "        self._decoder_w = np.transpose([[random.random() for x in range(self._encoding_dim)] for y in range(self._data_dim)])\n",
    "        self._observed = []\n",
    "        self._predict = self._observed\n",
    "    def fit(input_data):\n",
    "        self._observed = input_data\n",
    "    def encoder(activation = relu_vec):\n",
    "        x1 = np.dot(self._observed,self._encoder_w)+self._ones*self._encoder_b \n",
    "        x2 = activation(x1)\n",
    "        return x2\n",
    "    def decoder(encoded_data, activation = sigmoid_vec):\n",
    "        y1 = np.dot(encoded_data, self._decoder_w)+self._ones*self._decoder_b\n",
    "        y2 = activation(y1)\n",
    "        return y2\n",
    "    def predict(self, input_data):\n",
    "        encoded = encoder(input_data)\n",
    "        decoded = decoder(encoded)\n",
    "        self._predict = decoded\n",
    "    def loss():\n",
    "        "
   ]
  },
  {
   "cell_type": "code",
   "execution_count": 171,
   "id": "69e49d57",
   "metadata": {},
   "outputs": [],
   "source": [
    "ae = autoencoder(784,32)"
   ]
  },
  {
   "cell_type": "code",
   "execution_count": 172,
   "id": "0109337b",
   "metadata": {},
   "outputs": [
    {
     "data": {
      "text/plain": [
       "array([[1., 1., 1., ..., 1., 1., 1.],\n",
       "       [1., 1., 1., ..., 1., 1., 1.],\n",
       "       [1., 1., 1., ..., 1., 1., 1.],\n",
       "       ...,\n",
       "       [1., 1., 1., ..., 1., 1., 1.],\n",
       "       [1., 1., 1., ..., 1., 1., 1.],\n",
       "       [1., 1., 1., ..., 1., 1., 1.]])"
      ]
     },
     "execution_count": 172,
     "metadata": {},
     "output_type": "execute_result"
    }
   ],
   "source": [
    "i = ae.predict(X_train)"
   ]
  },
  {
   "cell_type": "code",
   "execution_count": 169,
   "id": "833ed419",
   "metadata": {},
   "outputs": [],
   "source": []
  },
  {
   "cell_type": "code",
   "execution_count": 170,
   "id": "40cdd660",
   "metadata": {},
   "outputs": [
    {
     "data": {
      "text/plain": [
       "array([[0.22907096, 0.26405212, 0.55349338, ..., 0.43524712, 0.26835854,\n",
       "        0.97693101],\n",
       "       [0.86784791, 0.05755848, 0.27925681, ..., 0.57451037, 0.02774453,\n",
       "        0.78837391],\n",
       "       [0.35889289, 0.82655866, 0.966911  , ..., 0.72160754, 0.76988341,\n",
       "        0.63353237],\n",
       "       ...,\n",
       "       [0.40961153, 0.83751722, 0.22264001, ..., 0.30049581, 0.30427069,\n",
       "        0.86044888],\n",
       "       [0.79800645, 0.39082707, 0.7696473 , ..., 0.77846364, 0.27892599,\n",
       "        0.56815989],\n",
       "       [0.97759092, 0.9980006 , 0.36430823, ..., 0.55157068, 0.74445107,\n",
       "        0.6111098 ]])"
      ]
     },
     "execution_count": 170,
     "metadata": {},
     "output_type": "execute_result"
    }
   ],
   "source": [
    "i"
   ]
  },
  {
   "cell_type": "code",
   "execution_count": 142,
   "id": "5cdb7aff",
   "metadata": {},
   "outputs": [],
   "source": [
    "j = decoder(i, 784)"
   ]
  },
  {
   "cell_type": "code",
   "execution_count": 124,
   "id": "0dd8ea3b",
   "metadata": {},
   "outputs": [],
   "source": [
    "q = np.dot(i, np.transpose(decoder_w))+ones*decoder_b"
   ]
  },
  {
   "cell_type": "code",
   "execution_count": 143,
   "id": "db3121ff",
   "metadata": {},
   "outputs": [],
   "source": [
    "p = sigmoid_vec(q)"
   ]
  },
  {
   "cell_type": "code",
   "execution_count": 148,
   "id": "92b3c88a",
   "metadata": {},
   "outputs": [
    {
     "data": {
      "text/plain": [
       "(784,)"
      ]
     },
     "execution_count": 148,
     "metadata": {},
     "output_type": "execute_result"
    }
   ],
   "source": [
    "np.shape(np.sum((X_train-p)**2, axis=0))"
   ]
  }
 ],
 "metadata": {
  "kernelspec": {
   "display_name": "Python 3 (ipykernel)",
   "language": "python",
   "name": "python3"
  },
  "language_info": {
   "codemirror_mode": {
    "name": "ipython",
    "version": 3
   },
   "file_extension": ".py",
   "mimetype": "text/x-python",
   "name": "python",
   "nbconvert_exporter": "python",
   "pygments_lexer": "ipython3",
   "version": "3.10.4"
  }
 },
 "nbformat": 4,
 "nbformat_minor": 5
}
